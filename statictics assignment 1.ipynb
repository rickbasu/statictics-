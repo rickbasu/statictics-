{
 "cells": [
  {
   "cell_type": "code",
   "execution_count": null,
   "id": "13ff48ec-9278-42b1-aceb-6ac9528ffb19",
   "metadata": {},
   "outputs": [],
   "source": [
    "#statistics assignment 1 \n",
    "Q 1 ans = Satistics is the science of collecting  , organizing and analyzing data\n",
    "Q 2 ans =  there are 2 types of satistics 1.Descriptive statistics 2.Inferentical statistics\n",
    "1. eg The average height of students in a classroom \n",
    "2. eg Are the height of the students in classroom similar to what you expect in the entire college \n",
    "Q 3. types of Data types 1. Quantatitive  2. Qualitative\n",
    "1. nmerical data type is known quantitative . 2. categorical data is known as qualtitative\n",
    "1. eg.  no of Bank a/c  , no of children in family  2. customerfeedback back  good , bad ,  better \n",
    "Q4 ans=  1.qualitative 2.qualitative  3. Quantative 4. quantative\n",
    "Q5 ans= scales of mesurement \n",
    "1.Nominal Scale Data (  categorical / qualtitative data ) eg Gender , Colour , labels \n",
    "2.Ordinal  scale Data ( ranking , oder , difference cannot be measure) eg Good , Best, Bad \n",
    "3.Interval Scale Data ( Oder , Different , Ratio cant  , no true 0  starting point ) eg temperature variable \n",
    "Q6 ans= The importance of undersatanding  the mearsurement of variables in resarch  beacause the levels of the levels of measuremnet\n",
    "determines the type of statistical analysis that can be conducted and therefore the type of conclusion that can be drawn from \n",
    "the resarch\n",
    "eg  the no  of iphone users in a locality or city \n",
    "  the no addidas shoes sales in  a locality \n",
    "Q7 ans = Nominal Scale Data= * Qualitative/ categorical\n",
    "                              * odrer does not matter \n",
    "                              eg  Gender , colours , labels \n",
    "        Ordinal  data = *Ranking is important \n",
    "                        *oder matter\n",
    "                        * difference cant be measure \n",
    "                eg,  App  customer feedback  1.Best\n",
    "                                             2. Good \n",
    "                                              3. Bad\n",
    "                        workinng profession   , chosssing  of day= M ,T ,Th  , Fri ,  he/she will chose fr\n",
    "\n",
    "Q8. the type of plot use in display data in terms of  range is called Histogram\n",
    "Q9. 1. Descriptive statistics- it concists of organizing and sunnurizing data , Measure of central tendency ( Mean  , media \n",
    "                                                                                                             mode)\n",
    "Measure of Dispersion ( variance , standard deviation ) , differerntials-typesa of data eg Histogram , pdf , pmf\n",
    " eg Average height of the class\n",
    "   2. Inferential statistics- it consits of of using data you measured to form condition , Hypothesis testing - Z test ,  F test \n",
    "    T test  , Regression Analysis - Linear regression \n",
    "    eg ,  are the height of students is similar to wehat expect in entire college\n",
    "    Q10. The common measures of central tendency and variability used in statistics are Mean , Media  , Mode\n",
    "     the central tendency and variability are used to  summurizing data in statistics, measure of central tendency shows where \n",
    "        the center or middile of the dataset is located , where the measure of variation shows the dispersion among data values\n",
    "                                             "
   ]
  }
 ],
 "metadata": {
  "kernelspec": {
   "display_name": "Python 3 (ipykernel)",
   "language": "python",
   "name": "python3"
  },
  "language_info": {
   "codemirror_mode": {
    "name": "ipython",
    "version": 3
   },
   "file_extension": ".py",
   "mimetype": "text/x-python",
   "name": "python",
   "nbconvert_exporter": "python",
   "pygments_lexer": "ipython3",
   "version": "3.10.8"
  }
 },
 "nbformat": 4,
 "nbformat_minor": 5
}
